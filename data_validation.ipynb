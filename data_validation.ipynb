{
 "cells": [
  {
   "cell_type": "code",
   "execution_count": 1,
   "outputs": [],
   "source": [
    "from pyspark.sql import SparkSession\n",
    "from pyspark.sql.functions import *\n",
    "from pyspark.sql.types import *"
   ],
   "metadata": {
    "collapsed": false,
    "pycharm": {
     "name": "#%%\n"
    }
   }
  },
  {
   "cell_type": "code",
   "execution_count": 2,
   "outputs": [
    {
     "name": "stderr",
     "output_type": "stream",
     "text": [
      "22/05/08 22:07:58 WARN NativeCodeLoader: Unable to load native-hadoop library for your platform... using builtin-java classes where applicable\n",
      "Using Spark's default log4j profile: org/apache/spark/log4j-defaults.properties\n",
      "Setting default log level to \"WARN\".\n",
      "To adjust logging level use sc.setLogLevel(newLevel). For SparkR, use setLogLevel(newLevel).\n",
      "22/05/08 22:07:59 WARN Utils: Service 'SparkUI' could not bind on port 4040. Attempting port 4041.\n",
      "22/05/08 22:07:59 WARN Utils: Service 'SparkUI' could not bind on port 4041. Attempting port 4042.\n"
     ]
    }
   ],
   "source": [
    "# construct spark session\n",
    "spark = SparkSession.builder.appName(\"test\").getOrCreate()"
   ],
   "metadata": {
    "collapsed": false,
    "pycharm": {
     "name": "#%%\n"
    }
   }
  },
  {
   "cell_type": "markdown",
   "source": [
    "## Load data"
   ],
   "metadata": {
    "collapsed": false,
    "pycharm": {
     "name": "#%% md\n"
    }
   }
  },
  {
   "cell_type": "markdown",
   "source": [
    "###  Load Visa Dimension Table"
   ],
   "metadata": {
    "collapsed": false,
    "pycharm": {
     "name": "#%% md\n"
    }
   }
  },
  {
   "cell_type": "code",
   "execution_count": 3,
   "outputs": [
    {
     "name": "stderr",
     "output_type": "stream",
     "text": [
      "                                                                                \r"
     ]
    }
   ],
   "source": [
    "# load parquet data\n",
    "visa_dim = spark.read.parquet(\"tables/visa_dim.parquet\")"
   ],
   "metadata": {
    "collapsed": false,
    "pycharm": {
     "name": "#%%\n"
    }
   }
  },
  {
   "cell_type": "code",
   "execution_count": 4,
   "outputs": [
    {
     "name": "stderr",
     "output_type": "stream",
     "text": [
      "                                                                                \r"
     ]
    },
    {
     "data": {
      "text/plain": "   visa_category_id visa_category_name\n0                 1           Business\n1                 2           Pleasure\n2                 3            Student",
      "text/html": "<div>\n<style scoped>\n    .dataframe tbody tr th:only-of-type {\n        vertical-align: middle;\n    }\n\n    .dataframe tbody tr th {\n        vertical-align: top;\n    }\n\n    .dataframe thead th {\n        text-align: right;\n    }\n</style>\n<table border=\"1\" class=\"dataframe\">\n  <thead>\n    <tr style=\"text-align: right;\">\n      <th></th>\n      <th>visa_category_id</th>\n      <th>visa_category_name</th>\n    </tr>\n  </thead>\n  <tbody>\n    <tr>\n      <th>0</th>\n      <td>1</td>\n      <td>Business</td>\n    </tr>\n    <tr>\n      <th>1</th>\n      <td>2</td>\n      <td>Pleasure</td>\n    </tr>\n    <tr>\n      <th>2</th>\n      <td>3</td>\n      <td>Student</td>\n    </tr>\n  </tbody>\n</table>\n</div>"
     },
     "execution_count": 4,
     "metadata": {},
     "output_type": "execute_result"
    }
   ],
   "source": [
    "visa_dim.select(\"*\").toPandas()"
   ],
   "metadata": {
    "collapsed": false,
    "pycharm": {
     "name": "#%%\n"
    }
   }
  },
  {
   "cell_type": "markdown",
   "source": [
    "### Load Country Dimension Table"
   ],
   "metadata": {
    "collapsed": false,
    "pycharm": {
     "name": "#%% md\n"
    }
   }
  },
  {
   "cell_type": "code",
   "execution_count": 5,
   "outputs": [],
   "source": [
    "# load parquet data\n",
    "country_dim = spark.read.parquet(\"tables/country_dim.parquet\")"
   ],
   "metadata": {
    "collapsed": false,
    "pycharm": {
     "name": "#%%\n"
    }
   }
  },
  {
   "cell_type": "code",
   "execution_count": 6,
   "outputs": [
    {
     "data": {
      "text/plain": "     country_id              country_name\n0           527  TURKS AND CAICOS ISLANDS\n1           420                    TUVALU\n2           352                    UGANDA\n3           162                   UKRAINE\n4           296      UNITED ARAB EMIRATES\n..          ...                       ...\n284         299                  MONGOLIA\n285         735                MONTENEGRO\n286         521                MONTSERRAT\n287         332                   MOROCCO\n288         329                MOZAMBIQUE\n\n[289 rows x 2 columns]",
      "text/html": "<div>\n<style scoped>\n    .dataframe tbody tr th:only-of-type {\n        vertical-align: middle;\n    }\n\n    .dataframe tbody tr th {\n        vertical-align: top;\n    }\n\n    .dataframe thead th {\n        text-align: right;\n    }\n</style>\n<table border=\"1\" class=\"dataframe\">\n  <thead>\n    <tr style=\"text-align: right;\">\n      <th></th>\n      <th>country_id</th>\n      <th>country_name</th>\n    </tr>\n  </thead>\n  <tbody>\n    <tr>\n      <th>0</th>\n      <td>527</td>\n      <td>TURKS AND CAICOS ISLANDS</td>\n    </tr>\n    <tr>\n      <th>1</th>\n      <td>420</td>\n      <td>TUVALU</td>\n    </tr>\n    <tr>\n      <th>2</th>\n      <td>352</td>\n      <td>UGANDA</td>\n    </tr>\n    <tr>\n      <th>3</th>\n      <td>162</td>\n      <td>UKRAINE</td>\n    </tr>\n    <tr>\n      <th>4</th>\n      <td>296</td>\n      <td>UNITED ARAB EMIRATES</td>\n    </tr>\n    <tr>\n      <th>...</th>\n      <td>...</td>\n      <td>...</td>\n    </tr>\n    <tr>\n      <th>284</th>\n      <td>299</td>\n      <td>MONGOLIA</td>\n    </tr>\n    <tr>\n      <th>285</th>\n      <td>735</td>\n      <td>MONTENEGRO</td>\n    </tr>\n    <tr>\n      <th>286</th>\n      <td>521</td>\n      <td>MONTSERRAT</td>\n    </tr>\n    <tr>\n      <th>287</th>\n      <td>332</td>\n      <td>MOROCCO</td>\n    </tr>\n    <tr>\n      <th>288</th>\n      <td>329</td>\n      <td>MOZAMBIQUE</td>\n    </tr>\n  </tbody>\n</table>\n<p>289 rows × 2 columns</p>\n</div>"
     },
     "execution_count": 6,
     "metadata": {},
     "output_type": "execute_result"
    }
   ],
   "source": [
    "country_dim.select(\"*\").toPandas()"
   ],
   "metadata": {
    "collapsed": false,
    "pycharm": {
     "name": "#%%\n"
    }
   }
  },
  {
   "cell_type": "markdown",
   "source": [
    "### Load Ports Dimension Table"
   ],
   "metadata": {
    "collapsed": false,
    "pycharm": {
     "name": "#%% md\n"
    }
   }
  },
  {
   "cell_type": "code",
   "execution_count": 42,
   "outputs": [],
   "source": [
    "# load parquet data\n",
    "ports_dim = spark.read.parquet(\"tables_/ports_dim.parquet\")"
   ],
   "metadata": {
    "collapsed": false,
    "pycharm": {
     "name": "#%%\n"
    }
   }
  },
  {
   "cell_type": "code",
   "execution_count": 43,
   "outputs": [
    {
     "data": {
      "text/plain": "    port_id           port_name\n0       NEA        NEAH BAY, WA\n1       NIG       NIGHTHAWK, WA\n2       OLY         OLYMPIA, WA\n3       ORO        OROVILLE, WA\n4       PWB           PASCO, WA\n..      ...                 ...\n655     ADU  No PORT Code (ADU)\n656     AKT  No PORT Code (AKT)\n657     LIT  No PORT Code (LIT)\n658     A2A  No PORT Code (A2A)\n659     OSN  No PORT Code (OSN)\n\n[660 rows x 2 columns]",
      "text/html": "<div>\n<style scoped>\n    .dataframe tbody tr th:only-of-type {\n        vertical-align: middle;\n    }\n\n    .dataframe tbody tr th {\n        vertical-align: top;\n    }\n\n    .dataframe thead th {\n        text-align: right;\n    }\n</style>\n<table border=\"1\" class=\"dataframe\">\n  <thead>\n    <tr style=\"text-align: right;\">\n      <th></th>\n      <th>port_id</th>\n      <th>port_name</th>\n    </tr>\n  </thead>\n  <tbody>\n    <tr>\n      <th>0</th>\n      <td>NEA</td>\n      <td>NEAH BAY, WA</td>\n    </tr>\n    <tr>\n      <th>1</th>\n      <td>NIG</td>\n      <td>NIGHTHAWK, WA</td>\n    </tr>\n    <tr>\n      <th>2</th>\n      <td>OLY</td>\n      <td>OLYMPIA, WA</td>\n    </tr>\n    <tr>\n      <th>3</th>\n      <td>ORO</td>\n      <td>OROVILLE, WA</td>\n    </tr>\n    <tr>\n      <th>4</th>\n      <td>PWB</td>\n      <td>PASCO, WA</td>\n    </tr>\n    <tr>\n      <th>...</th>\n      <td>...</td>\n      <td>...</td>\n    </tr>\n    <tr>\n      <th>655</th>\n      <td>ADU</td>\n      <td>No PORT Code (ADU)</td>\n    </tr>\n    <tr>\n      <th>656</th>\n      <td>AKT</td>\n      <td>No PORT Code (AKT)</td>\n    </tr>\n    <tr>\n      <th>657</th>\n      <td>LIT</td>\n      <td>No PORT Code (LIT)</td>\n    </tr>\n    <tr>\n      <th>658</th>\n      <td>A2A</td>\n      <td>No PORT Code (A2A)</td>\n    </tr>\n    <tr>\n      <th>659</th>\n      <td>OSN</td>\n      <td>No PORT Code (OSN)</td>\n    </tr>\n  </tbody>\n</table>\n<p>660 rows × 2 columns</p>\n</div>"
     },
     "execution_count": 43,
     "metadata": {},
     "output_type": "execute_result"
    }
   ],
   "source": [
    "ports_dim.select(\"*\").toPandas()"
   ],
   "metadata": {
    "collapsed": false,
    "pycharm": {
     "name": "#%%\n"
    }
   }
  },
  {
   "cell_type": "markdown",
   "source": [
    "### Load Immigration Fact Table"
   ],
   "metadata": {
    "collapsed": false,
    "pycharm": {
     "name": "#%% md\n"
    }
   }
  },
  {
   "cell_type": "code",
   "execution_count": 35,
   "outputs": [],
   "source": [
    "# Load parquet data\n",
    "immigration_fact = spark.read.parquet(\"tables_/immigration_fact.parquet/visa_category=1\")"
   ],
   "metadata": {
    "collapsed": false,
    "pycharm": {
     "name": "#%%\n"
    }
   }
  },
  {
   "cell_type": "code",
   "execution_count": 36,
   "outputs": [
    {
     "name": "stderr",
     "output_type": "stream",
     "text": [
      "                                                                                \r"
     ]
    },
    {
     "data": {
      "text/plain": "   record_id  entry_year  entry_month  country_citizenship  country_residence  \\\n0    1818146        2016            4                  148                112   \n1    2055217        2016            4                  438                438   \n2    1818149        2016            4                  148                112   \n3    2055223        2016            4                  438                438   \n4    1818150        2016            4                  148                112   \n\n  port_of_entry arrival_date  mode_of_entry state_code departure_date  ...  \\\n0           ATL   2016-04-10            1.0         SC     2016-04-20  ...   \n1           NYC   2016-04-11            1.0         HN     2016-04-16  ...   \n2           ATL   2016-04-10            1.0         SC     2016-04-22  ...   \n3           CHI   2016-04-11            1.0         DC     2016-04-16  ...   \n4           ATL   2016-04-10            1.0         SC     2016-04-13  ...   \n\n   count  arrival_flag departure_flag match_flag birth_year  gender airline  \\\n0      1             G              O          M     1986.0       M      DL   \n1      1             O              O          M     1957.0    None      JQ   \n2      1             G              O          M     1988.0       M      DL   \n3      1             O              O          M     1952.0    None      AF   \n4      1             O              O          M     1982.0    None      LH   \n\n  admission_number  flight_number visa_type  \n0       2147483647          00131        WB  \n1       2147483647          00003        WB  \n2       2147483647          00131        WB  \n3       2147483647          00054        WB  \n4       2147483647          00444        WB  \n\n[5 rows x 21 columns]",
      "text/html": "<div>\n<style scoped>\n    .dataframe tbody tr th:only-of-type {\n        vertical-align: middle;\n    }\n\n    .dataframe tbody tr th {\n        vertical-align: top;\n    }\n\n    .dataframe thead th {\n        text-align: right;\n    }\n</style>\n<table border=\"1\" class=\"dataframe\">\n  <thead>\n    <tr style=\"text-align: right;\">\n      <th></th>\n      <th>record_id</th>\n      <th>entry_year</th>\n      <th>entry_month</th>\n      <th>country_citizenship</th>\n      <th>country_residence</th>\n      <th>port_of_entry</th>\n      <th>arrival_date</th>\n      <th>mode_of_entry</th>\n      <th>state_code</th>\n      <th>departure_date</th>\n      <th>...</th>\n      <th>count</th>\n      <th>arrival_flag</th>\n      <th>departure_flag</th>\n      <th>match_flag</th>\n      <th>birth_year</th>\n      <th>gender</th>\n      <th>airline</th>\n      <th>admission_number</th>\n      <th>flight_number</th>\n      <th>visa_type</th>\n    </tr>\n  </thead>\n  <tbody>\n    <tr>\n      <th>0</th>\n      <td>1818146</td>\n      <td>2016</td>\n      <td>4</td>\n      <td>148</td>\n      <td>112</td>\n      <td>ATL</td>\n      <td>2016-04-10</td>\n      <td>1.0</td>\n      <td>SC</td>\n      <td>2016-04-20</td>\n      <td>...</td>\n      <td>1</td>\n      <td>G</td>\n      <td>O</td>\n      <td>M</td>\n      <td>1986.0</td>\n      <td>M</td>\n      <td>DL</td>\n      <td>2147483647</td>\n      <td>00131</td>\n      <td>WB</td>\n    </tr>\n    <tr>\n      <th>1</th>\n      <td>2055217</td>\n      <td>2016</td>\n      <td>4</td>\n      <td>438</td>\n      <td>438</td>\n      <td>NYC</td>\n      <td>2016-04-11</td>\n      <td>1.0</td>\n      <td>HN</td>\n      <td>2016-04-16</td>\n      <td>...</td>\n      <td>1</td>\n      <td>O</td>\n      <td>O</td>\n      <td>M</td>\n      <td>1957.0</td>\n      <td>None</td>\n      <td>JQ</td>\n      <td>2147483647</td>\n      <td>00003</td>\n      <td>WB</td>\n    </tr>\n    <tr>\n      <th>2</th>\n      <td>1818149</td>\n      <td>2016</td>\n      <td>4</td>\n      <td>148</td>\n      <td>112</td>\n      <td>ATL</td>\n      <td>2016-04-10</td>\n      <td>1.0</td>\n      <td>SC</td>\n      <td>2016-04-22</td>\n      <td>...</td>\n      <td>1</td>\n      <td>G</td>\n      <td>O</td>\n      <td>M</td>\n      <td>1988.0</td>\n      <td>M</td>\n      <td>DL</td>\n      <td>2147483647</td>\n      <td>00131</td>\n      <td>WB</td>\n    </tr>\n    <tr>\n      <th>3</th>\n      <td>2055223</td>\n      <td>2016</td>\n      <td>4</td>\n      <td>438</td>\n      <td>438</td>\n      <td>CHI</td>\n      <td>2016-04-11</td>\n      <td>1.0</td>\n      <td>DC</td>\n      <td>2016-04-16</td>\n      <td>...</td>\n      <td>1</td>\n      <td>O</td>\n      <td>O</td>\n      <td>M</td>\n      <td>1952.0</td>\n      <td>None</td>\n      <td>AF</td>\n      <td>2147483647</td>\n      <td>00054</td>\n      <td>WB</td>\n    </tr>\n    <tr>\n      <th>4</th>\n      <td>1818150</td>\n      <td>2016</td>\n      <td>4</td>\n      <td>148</td>\n      <td>112</td>\n      <td>ATL</td>\n      <td>2016-04-10</td>\n      <td>1.0</td>\n      <td>SC</td>\n      <td>2016-04-13</td>\n      <td>...</td>\n      <td>1</td>\n      <td>O</td>\n      <td>O</td>\n      <td>M</td>\n      <td>1982.0</td>\n      <td>None</td>\n      <td>LH</td>\n      <td>2147483647</td>\n      <td>00444</td>\n      <td>WB</td>\n    </tr>\n  </tbody>\n</table>\n<p>5 rows × 21 columns</p>\n</div>"
     },
     "execution_count": 36,
     "metadata": {},
     "output_type": "execute_result"
    }
   ],
   "source": [
    "immigration_fact.select(\"*\").toPandas().head()"
   ],
   "metadata": {
    "collapsed": false,
    "pycharm": {
     "name": "#%%\n"
    }
   }
  },
  {
   "cell_type": "code",
   "execution_count": 37,
   "outputs": [
    {
     "name": "stdout",
     "output_type": "stream",
     "text": [
      "root\n",
      " |-- record_id: integer (nullable = true)\n",
      " |-- entry_year: integer (nullable = true)\n",
      " |-- entry_month: integer (nullable = true)\n",
      " |-- country_citizenship: integer (nullable = true)\n",
      " |-- country_residence: integer (nullable = true)\n",
      " |-- port_of_entry: string (nullable = true)\n",
      " |-- arrival_date: string (nullable = true)\n",
      " |-- mode_of_entry: integer (nullable = true)\n",
      " |-- state_code: string (nullable = true)\n",
      " |-- departure_date: string (nullable = true)\n",
      " |-- age: integer (nullable = true)\n",
      " |-- count: integer (nullable = true)\n",
      " |-- arrival_flag: string (nullable = true)\n",
      " |-- departure_flag: string (nullable = true)\n",
      " |-- match_flag: string (nullable = true)\n",
      " |-- birth_year: integer (nullable = true)\n",
      " |-- gender: string (nullable = true)\n",
      " |-- airline: string (nullable = true)\n",
      " |-- admission_number: integer (nullable = true)\n",
      " |-- flight_number: string (nullable = true)\n",
      " |-- visa_type: string (nullable = true)\n",
      "\n"
     ]
    }
   ],
   "source": [
    "immigration_fact.printSchema()"
   ],
   "metadata": {
    "collapsed": false,
    "pycharm": {
     "name": "#%%\n"
    }
   }
  },
  {
   "cell_type": "code",
   "execution_count": null,
   "outputs": [],
   "source": [],
   "metadata": {
    "collapsed": false,
    "pycharm": {
     "name": "#%%\n"
    }
   }
  },
  {
   "cell_type": "markdown",
   "source": [
    "### Load Calendar dim table"
   ],
   "metadata": {
    "collapsed": false,
    "pycharm": {
     "name": "#%% md\n"
    }
   }
  },
  {
   "cell_type": "code",
   "execution_count": 21,
   "outputs": [],
   "source": [
    "# Load parquet data\n",
    "calendar_dim = spark.read.parquet(\"tables_/calendar_dim.parquet\")"
   ],
   "metadata": {
    "collapsed": false,
    "pycharm": {
     "name": "#%%\n"
    }
   }
  },
  {
   "cell_type": "code",
   "execution_count": 22,
   "outputs": [
    {
     "name": "stderr",
     "output_type": "stream",
     "text": [
      "                                                                                \r"
     ]
    },
    {
     "data": {
      "text/plain": "    calendar_date  arrival_day  arrival_week  arrival_month  arrival_year  \\\n0      2016-08-02          2.0          31.0            8.0        2016.0   \n1      2016-05-18         18.0          20.0            5.0        2016.0   \n2      2016-09-06          6.0          36.0            9.0        2016.0   \n3      2016-08-16         16.0          33.0            8.0        2016.0   \n4      2016-02-05          5.0           5.0            2.0        2016.0   \n..            ...          ...           ...            ...           ...   \n261    2015-12-21         21.0          52.0           12.0        2015.0   \n262    2016-07-01          1.0          26.0            7.0        2016.0   \n263    2014-04-24         24.0          17.0            4.0        2014.0   \n264    2016-07-15         15.0          28.0            7.0        2016.0   \n265    2015-05-30         30.0          22.0            5.0        2015.0   \n\n     arrival_weekday    calendar_id  \n0                3.0  2430951489536  \n1                4.0  2430951489537  \n2                3.0  2430951489538  \n3                3.0  2430951489539  \n4                6.0  2430951489540  \n..               ...            ...  \n261              2.0  3126736191489  \n262              6.0  2954937499648  \n263              5.0  2954937499649  \n264              6.0  2138893713408  \n265              7.0  2138893713409  \n\n[266 rows x 7 columns]",
      "text/html": "<div>\n<style scoped>\n    .dataframe tbody tr th:only-of-type {\n        vertical-align: middle;\n    }\n\n    .dataframe tbody tr th {\n        vertical-align: top;\n    }\n\n    .dataframe thead th {\n        text-align: right;\n    }\n</style>\n<table border=\"1\" class=\"dataframe\">\n  <thead>\n    <tr style=\"text-align: right;\">\n      <th></th>\n      <th>calendar_date</th>\n      <th>arrival_day</th>\n      <th>arrival_week</th>\n      <th>arrival_month</th>\n      <th>arrival_year</th>\n      <th>arrival_weekday</th>\n      <th>calendar_id</th>\n    </tr>\n  </thead>\n  <tbody>\n    <tr>\n      <th>0</th>\n      <td>2016-08-02</td>\n      <td>2.0</td>\n      <td>31.0</td>\n      <td>8.0</td>\n      <td>2016.0</td>\n      <td>3.0</td>\n      <td>2430951489536</td>\n    </tr>\n    <tr>\n      <th>1</th>\n      <td>2016-05-18</td>\n      <td>18.0</td>\n      <td>20.0</td>\n      <td>5.0</td>\n      <td>2016.0</td>\n      <td>4.0</td>\n      <td>2430951489537</td>\n    </tr>\n    <tr>\n      <th>2</th>\n      <td>2016-09-06</td>\n      <td>6.0</td>\n      <td>36.0</td>\n      <td>9.0</td>\n      <td>2016.0</td>\n      <td>3.0</td>\n      <td>2430951489538</td>\n    </tr>\n    <tr>\n      <th>3</th>\n      <td>2016-08-16</td>\n      <td>16.0</td>\n      <td>33.0</td>\n      <td>8.0</td>\n      <td>2016.0</td>\n      <td>3.0</td>\n      <td>2430951489539</td>\n    </tr>\n    <tr>\n      <th>4</th>\n      <td>2016-02-05</td>\n      <td>5.0</td>\n      <td>5.0</td>\n      <td>2.0</td>\n      <td>2016.0</td>\n      <td>6.0</td>\n      <td>2430951489540</td>\n    </tr>\n    <tr>\n      <th>...</th>\n      <td>...</td>\n      <td>...</td>\n      <td>...</td>\n      <td>...</td>\n      <td>...</td>\n      <td>...</td>\n      <td>...</td>\n    </tr>\n    <tr>\n      <th>261</th>\n      <td>2015-12-21</td>\n      <td>21.0</td>\n      <td>52.0</td>\n      <td>12.0</td>\n      <td>2015.0</td>\n      <td>2.0</td>\n      <td>3126736191489</td>\n    </tr>\n    <tr>\n      <th>262</th>\n      <td>2016-07-01</td>\n      <td>1.0</td>\n      <td>26.0</td>\n      <td>7.0</td>\n      <td>2016.0</td>\n      <td>6.0</td>\n      <td>2954937499648</td>\n    </tr>\n    <tr>\n      <th>263</th>\n      <td>2014-04-24</td>\n      <td>24.0</td>\n      <td>17.0</td>\n      <td>4.0</td>\n      <td>2014.0</td>\n      <td>5.0</td>\n      <td>2954937499649</td>\n    </tr>\n    <tr>\n      <th>264</th>\n      <td>2016-07-15</td>\n      <td>15.0</td>\n      <td>28.0</td>\n      <td>7.0</td>\n      <td>2016.0</td>\n      <td>6.0</td>\n      <td>2138893713408</td>\n    </tr>\n    <tr>\n      <th>265</th>\n      <td>2015-05-30</td>\n      <td>30.0</td>\n      <td>22.0</td>\n      <td>5.0</td>\n      <td>2015.0</td>\n      <td>7.0</td>\n      <td>2138893713409</td>\n    </tr>\n  </tbody>\n</table>\n<p>266 rows × 7 columns</p>\n</div>"
     },
     "execution_count": 22,
     "metadata": {},
     "output_type": "execute_result"
    }
   ],
   "source": [
    "calendar_dim.select(\"*\").toPandas()"
   ],
   "metadata": {
    "collapsed": false,
    "pycharm": {
     "name": "#%%\n"
    }
   }
  },
  {
   "cell_type": "code",
   "execution_count": null,
   "outputs": [],
   "source": [],
   "metadata": {
    "collapsed": false,
    "pycharm": {
     "name": "#%%\n"
    }
   }
  },
  {
   "cell_type": "markdown",
   "source": [
    "### Load Demographic dim table"
   ],
   "metadata": {
    "collapsed": false,
    "pycharm": {
     "name": "#%% md\n"
    }
   }
  },
  {
   "cell_type": "code",
   "execution_count": 27,
   "outputs": [],
   "source": [
    "# Load parquet data\n",
    "demographic_dim = spark.read.parquet(\"tables_/demographics_dim.parquet\")"
   ],
   "metadata": {
    "collapsed": false,
    "pycharm": {
     "name": "#%%\n"
    }
   }
  },
  {
   "cell_type": "code",
   "execution_count": 28,
   "outputs": [
    {
     "data": {
      "text/plain": "                  city          state  median_age  male_population  \\\n0        Silver Spring       Maryland        33.8          40601.0   \n1               Quincy  Massachusetts        41.0          44129.0   \n2               Hoover        Alabama        38.5          38040.0   \n3     Rancho Cucamonga     California        34.5          88127.0   \n4               Newark     New Jersey        34.6         138040.0   \n...                ...            ...         ...              ...   \n2886          Stockton     California        32.5         150976.0   \n2887        Southfield       Michigan        41.6          31369.0   \n2888      Indianapolis        Indiana        34.1         410615.0   \n2889        Somerville  Massachusetts        31.0          41028.0   \n2890     Coral Springs        Florida        37.2          63316.0   \n\n      female_population  total_population  number_veterans  foreign_born  \\\n0               41862.0             82463           1562.0       30908.0   \n1               49500.0             93629           4147.0       32935.0   \n2               46799.0             84839           4819.0        8229.0   \n3               87105.0            175232           5821.0       33878.0   \n4              143873.0            281913           5829.0       86253.0   \n...                 ...               ...              ...           ...   \n2886           154674.0            305650          12822.0       79583.0   \n2887            41808.0             73177           4035.0        4011.0   \n2888           437808.0            848423          42186.0       72456.0   \n2889            39306.0             80334           2103.0       22292.0   \n2890            66186.0            129502           4724.0       38552.0   \n\n      average_household_size state_code                               race  \\\n0                       2.60         MD                 Hispanic or Latino   \n1                       2.39         MA                              White   \n2                       2.58         AL                              Asian   \n3                       3.18         CA          Black or African-American   \n4                       2.73         NJ                              White   \n...                      ...        ...                                ...   \n2886                    3.16         CA  American Indian and Alaska Native   \n2887                    2.27         MI  American Indian and Alaska Native   \n2888                    2.53         IN                              White   \n2889                    2.43         MA  American Indian and Alaska Native   \n2890                    3.17         FL                              White   \n\n       count  \n0      25924  \n1      58723  \n2       4759  \n3      24437  \n4      76402  \n...      ...  \n2886   19834  \n2887     983  \n2888  553665  \n2889     374  \n2890   90896  \n\n[2891 rows x 12 columns]",
      "text/html": "<div>\n<style scoped>\n    .dataframe tbody tr th:only-of-type {\n        vertical-align: middle;\n    }\n\n    .dataframe tbody tr th {\n        vertical-align: top;\n    }\n\n    .dataframe thead th {\n        text-align: right;\n    }\n</style>\n<table border=\"1\" class=\"dataframe\">\n  <thead>\n    <tr style=\"text-align: right;\">\n      <th></th>\n      <th>city</th>\n      <th>state</th>\n      <th>median_age</th>\n      <th>male_population</th>\n      <th>female_population</th>\n      <th>total_population</th>\n      <th>number_veterans</th>\n      <th>foreign_born</th>\n      <th>average_household_size</th>\n      <th>state_code</th>\n      <th>race</th>\n      <th>count</th>\n    </tr>\n  </thead>\n  <tbody>\n    <tr>\n      <th>0</th>\n      <td>Silver Spring</td>\n      <td>Maryland</td>\n      <td>33.8</td>\n      <td>40601.0</td>\n      <td>41862.0</td>\n      <td>82463</td>\n      <td>1562.0</td>\n      <td>30908.0</td>\n      <td>2.60</td>\n      <td>MD</td>\n      <td>Hispanic or Latino</td>\n      <td>25924</td>\n    </tr>\n    <tr>\n      <th>1</th>\n      <td>Quincy</td>\n      <td>Massachusetts</td>\n      <td>41.0</td>\n      <td>44129.0</td>\n      <td>49500.0</td>\n      <td>93629</td>\n      <td>4147.0</td>\n      <td>32935.0</td>\n      <td>2.39</td>\n      <td>MA</td>\n      <td>White</td>\n      <td>58723</td>\n    </tr>\n    <tr>\n      <th>2</th>\n      <td>Hoover</td>\n      <td>Alabama</td>\n      <td>38.5</td>\n      <td>38040.0</td>\n      <td>46799.0</td>\n      <td>84839</td>\n      <td>4819.0</td>\n      <td>8229.0</td>\n      <td>2.58</td>\n      <td>AL</td>\n      <td>Asian</td>\n      <td>4759</td>\n    </tr>\n    <tr>\n      <th>3</th>\n      <td>Rancho Cucamonga</td>\n      <td>California</td>\n      <td>34.5</td>\n      <td>88127.0</td>\n      <td>87105.0</td>\n      <td>175232</td>\n      <td>5821.0</td>\n      <td>33878.0</td>\n      <td>3.18</td>\n      <td>CA</td>\n      <td>Black or African-American</td>\n      <td>24437</td>\n    </tr>\n    <tr>\n      <th>4</th>\n      <td>Newark</td>\n      <td>New Jersey</td>\n      <td>34.6</td>\n      <td>138040.0</td>\n      <td>143873.0</td>\n      <td>281913</td>\n      <td>5829.0</td>\n      <td>86253.0</td>\n      <td>2.73</td>\n      <td>NJ</td>\n      <td>White</td>\n      <td>76402</td>\n    </tr>\n    <tr>\n      <th>...</th>\n      <td>...</td>\n      <td>...</td>\n      <td>...</td>\n      <td>...</td>\n      <td>...</td>\n      <td>...</td>\n      <td>...</td>\n      <td>...</td>\n      <td>...</td>\n      <td>...</td>\n      <td>...</td>\n      <td>...</td>\n    </tr>\n    <tr>\n      <th>2886</th>\n      <td>Stockton</td>\n      <td>California</td>\n      <td>32.5</td>\n      <td>150976.0</td>\n      <td>154674.0</td>\n      <td>305650</td>\n      <td>12822.0</td>\n      <td>79583.0</td>\n      <td>3.16</td>\n      <td>CA</td>\n      <td>American Indian and Alaska Native</td>\n      <td>19834</td>\n    </tr>\n    <tr>\n      <th>2887</th>\n      <td>Southfield</td>\n      <td>Michigan</td>\n      <td>41.6</td>\n      <td>31369.0</td>\n      <td>41808.0</td>\n      <td>73177</td>\n      <td>4035.0</td>\n      <td>4011.0</td>\n      <td>2.27</td>\n      <td>MI</td>\n      <td>American Indian and Alaska Native</td>\n      <td>983</td>\n    </tr>\n    <tr>\n      <th>2888</th>\n      <td>Indianapolis</td>\n      <td>Indiana</td>\n      <td>34.1</td>\n      <td>410615.0</td>\n      <td>437808.0</td>\n      <td>848423</td>\n      <td>42186.0</td>\n      <td>72456.0</td>\n      <td>2.53</td>\n      <td>IN</td>\n      <td>White</td>\n      <td>553665</td>\n    </tr>\n    <tr>\n      <th>2889</th>\n      <td>Somerville</td>\n      <td>Massachusetts</td>\n      <td>31.0</td>\n      <td>41028.0</td>\n      <td>39306.0</td>\n      <td>80334</td>\n      <td>2103.0</td>\n      <td>22292.0</td>\n      <td>2.43</td>\n      <td>MA</td>\n      <td>American Indian and Alaska Native</td>\n      <td>374</td>\n    </tr>\n    <tr>\n      <th>2890</th>\n      <td>Coral Springs</td>\n      <td>Florida</td>\n      <td>37.2</td>\n      <td>63316.0</td>\n      <td>66186.0</td>\n      <td>129502</td>\n      <td>4724.0</td>\n      <td>38552.0</td>\n      <td>3.17</td>\n      <td>FL</td>\n      <td>White</td>\n      <td>90896</td>\n    </tr>\n  </tbody>\n</table>\n<p>2891 rows × 12 columns</p>\n</div>"
     },
     "execution_count": 28,
     "metadata": {},
     "output_type": "execute_result"
    }
   ],
   "source": [
    "demographic_dim.select(\"*\").toPandas()"
   ],
   "metadata": {
    "collapsed": false,
    "pycharm": {
     "name": "#%%\n"
    }
   }
  },
  {
   "cell_type": "code",
   "execution_count": null,
   "outputs": [],
   "source": [],
   "metadata": {
    "collapsed": false,
    "pycharm": {
     "name": "#%%\n"
    }
   }
  },
  {
   "cell_type": "markdown",
   "source": [
    "### Load US states dim table"
   ],
   "metadata": {
    "collapsed": false,
    "pycharm": {
     "name": "#%% md\n"
    }
   }
  },
  {
   "cell_type": "code",
   "execution_count": 38,
   "outputs": [],
   "source": [
    "# Load parquet data\n",
    "us_states_dim = spark.read.parquet(\"tables_/us_states_dim.parquet\")"
   ],
   "metadata": {
    "collapsed": false,
    "pycharm": {
     "name": "#%%\n"
    }
   }
  },
  {
   "cell_type": "code",
   "execution_count": 39,
   "outputs": [
    {
     "data": {
      "text/plain": "   us_state_id      us_state_name\n0           KY           KENTUCKY\n1           LA          LOUISIANA\n2           ME              MAINE\n3           MD           MARYLAND\n4           MA      MASSACHUSETTS\n5           MI           MICHIGAN\n6           MN          MINNESOTA\n7           MS        MISSISSIPPI\n8           MO           MISSOURI\n9           MT            MONTANA\n10          NC        N. CAROLINA\n11          ND          N. DAKOTA\n12          VI     VIRGIN ISLANDS\n13          VA           VIRGINIA\n14          WV        W. VIRGINIA\n15          WA         WASHINGTON\n16          WI          WISCONSON\n17          WY            WYOMING\n18          99    All Other Codes\n19          CT        CONNECTICUT\n20          DE           DELAWARE\n21          DC  DIST. OF COLUMBIA\n22          FL            FLORIDA\n23          GA            GEORGIA\n24          GU               GUAM\n25          OH               OHIO\n26          OK           OKLAHOMA\n27          OR             OREGON\n28          PA       PENNSYLVANIA\n29          PR        PUERTO RICO\n30          RI       RHODE ISLAND\n31          SC        S. CAROLINA\n32          SD          S. DAKOTA\n33          TN          TENNESSEE\n34          TX              TEXAS\n35          UT               UTAH\n36          VT            VERMONT\n37          NE           NEBRASKA\n38          NV             NEVADA\n39          NH      NEW HAMPSHIRE\n40          NJ         NEW JERSEY\n41          NM         NEW MEXICO\n42          NY           NEW YORK\n43          AL            ALABAMA\n44          AK             ALASKA\n45          AZ            ARIZONA\n46          AR           ARKANSAS\n47          CA         CALIFORNIA\n48          CO           COLORADO\n49          HI             HAWAII\n50          ID              IDAHO\n51          IL           ILLINOIS\n52          IN            INDIANA\n53          IA               IOWA\n54          KS             KANSAS",
      "text/html": "<div>\n<style scoped>\n    .dataframe tbody tr th:only-of-type {\n        vertical-align: middle;\n    }\n\n    .dataframe tbody tr th {\n        vertical-align: top;\n    }\n\n    .dataframe thead th {\n        text-align: right;\n    }\n</style>\n<table border=\"1\" class=\"dataframe\">\n  <thead>\n    <tr style=\"text-align: right;\">\n      <th></th>\n      <th>us_state_id</th>\n      <th>us_state_name</th>\n    </tr>\n  </thead>\n  <tbody>\n    <tr>\n      <th>0</th>\n      <td>KY</td>\n      <td>KENTUCKY</td>\n    </tr>\n    <tr>\n      <th>1</th>\n      <td>LA</td>\n      <td>LOUISIANA</td>\n    </tr>\n    <tr>\n      <th>2</th>\n      <td>ME</td>\n      <td>MAINE</td>\n    </tr>\n    <tr>\n      <th>3</th>\n      <td>MD</td>\n      <td>MARYLAND</td>\n    </tr>\n    <tr>\n      <th>4</th>\n      <td>MA</td>\n      <td>MASSACHUSETTS</td>\n    </tr>\n    <tr>\n      <th>5</th>\n      <td>MI</td>\n      <td>MICHIGAN</td>\n    </tr>\n    <tr>\n      <th>6</th>\n      <td>MN</td>\n      <td>MINNESOTA</td>\n    </tr>\n    <tr>\n      <th>7</th>\n      <td>MS</td>\n      <td>MISSISSIPPI</td>\n    </tr>\n    <tr>\n      <th>8</th>\n      <td>MO</td>\n      <td>MISSOURI</td>\n    </tr>\n    <tr>\n      <th>9</th>\n      <td>MT</td>\n      <td>MONTANA</td>\n    </tr>\n    <tr>\n      <th>10</th>\n      <td>NC</td>\n      <td>N. CAROLINA</td>\n    </tr>\n    <tr>\n      <th>11</th>\n      <td>ND</td>\n      <td>N. DAKOTA</td>\n    </tr>\n    <tr>\n      <th>12</th>\n      <td>VI</td>\n      <td>VIRGIN ISLANDS</td>\n    </tr>\n    <tr>\n      <th>13</th>\n      <td>VA</td>\n      <td>VIRGINIA</td>\n    </tr>\n    <tr>\n      <th>14</th>\n      <td>WV</td>\n      <td>W. VIRGINIA</td>\n    </tr>\n    <tr>\n      <th>15</th>\n      <td>WA</td>\n      <td>WASHINGTON</td>\n    </tr>\n    <tr>\n      <th>16</th>\n      <td>WI</td>\n      <td>WISCONSON</td>\n    </tr>\n    <tr>\n      <th>17</th>\n      <td>WY</td>\n      <td>WYOMING</td>\n    </tr>\n    <tr>\n      <th>18</th>\n      <td>99</td>\n      <td>All Other Codes</td>\n    </tr>\n    <tr>\n      <th>19</th>\n      <td>CT</td>\n      <td>CONNECTICUT</td>\n    </tr>\n    <tr>\n      <th>20</th>\n      <td>DE</td>\n      <td>DELAWARE</td>\n    </tr>\n    <tr>\n      <th>21</th>\n      <td>DC</td>\n      <td>DIST. OF COLUMBIA</td>\n    </tr>\n    <tr>\n      <th>22</th>\n      <td>FL</td>\n      <td>FLORIDA</td>\n    </tr>\n    <tr>\n      <th>23</th>\n      <td>GA</td>\n      <td>GEORGIA</td>\n    </tr>\n    <tr>\n      <th>24</th>\n      <td>GU</td>\n      <td>GUAM</td>\n    </tr>\n    <tr>\n      <th>25</th>\n      <td>OH</td>\n      <td>OHIO</td>\n    </tr>\n    <tr>\n      <th>26</th>\n      <td>OK</td>\n      <td>OKLAHOMA</td>\n    </tr>\n    <tr>\n      <th>27</th>\n      <td>OR</td>\n      <td>OREGON</td>\n    </tr>\n    <tr>\n      <th>28</th>\n      <td>PA</td>\n      <td>PENNSYLVANIA</td>\n    </tr>\n    <tr>\n      <th>29</th>\n      <td>PR</td>\n      <td>PUERTO RICO</td>\n    </tr>\n    <tr>\n      <th>30</th>\n      <td>RI</td>\n      <td>RHODE ISLAND</td>\n    </tr>\n    <tr>\n      <th>31</th>\n      <td>SC</td>\n      <td>S. CAROLINA</td>\n    </tr>\n    <tr>\n      <th>32</th>\n      <td>SD</td>\n      <td>S. DAKOTA</td>\n    </tr>\n    <tr>\n      <th>33</th>\n      <td>TN</td>\n      <td>TENNESSEE</td>\n    </tr>\n    <tr>\n      <th>34</th>\n      <td>TX</td>\n      <td>TEXAS</td>\n    </tr>\n    <tr>\n      <th>35</th>\n      <td>UT</td>\n      <td>UTAH</td>\n    </tr>\n    <tr>\n      <th>36</th>\n      <td>VT</td>\n      <td>VERMONT</td>\n    </tr>\n    <tr>\n      <th>37</th>\n      <td>NE</td>\n      <td>NEBRASKA</td>\n    </tr>\n    <tr>\n      <th>38</th>\n      <td>NV</td>\n      <td>NEVADA</td>\n    </tr>\n    <tr>\n      <th>39</th>\n      <td>NH</td>\n      <td>NEW HAMPSHIRE</td>\n    </tr>\n    <tr>\n      <th>40</th>\n      <td>NJ</td>\n      <td>NEW JERSEY</td>\n    </tr>\n    <tr>\n      <th>41</th>\n      <td>NM</td>\n      <td>NEW MEXICO</td>\n    </tr>\n    <tr>\n      <th>42</th>\n      <td>NY</td>\n      <td>NEW YORK</td>\n    </tr>\n    <tr>\n      <th>43</th>\n      <td>AL</td>\n      <td>ALABAMA</td>\n    </tr>\n    <tr>\n      <th>44</th>\n      <td>AK</td>\n      <td>ALASKA</td>\n    </tr>\n    <tr>\n      <th>45</th>\n      <td>AZ</td>\n      <td>ARIZONA</td>\n    </tr>\n    <tr>\n      <th>46</th>\n      <td>AR</td>\n      <td>ARKANSAS</td>\n    </tr>\n    <tr>\n      <th>47</th>\n      <td>CA</td>\n      <td>CALIFORNIA</td>\n    </tr>\n    <tr>\n      <th>48</th>\n      <td>CO</td>\n      <td>COLORADO</td>\n    </tr>\n    <tr>\n      <th>49</th>\n      <td>HI</td>\n      <td>HAWAII</td>\n    </tr>\n    <tr>\n      <th>50</th>\n      <td>ID</td>\n      <td>IDAHO</td>\n    </tr>\n    <tr>\n      <th>51</th>\n      <td>IL</td>\n      <td>ILLINOIS</td>\n    </tr>\n    <tr>\n      <th>52</th>\n      <td>IN</td>\n      <td>INDIANA</td>\n    </tr>\n    <tr>\n      <th>53</th>\n      <td>IA</td>\n      <td>IOWA</td>\n    </tr>\n    <tr>\n      <th>54</th>\n      <td>KS</td>\n      <td>KANSAS</td>\n    </tr>\n  </tbody>\n</table>\n</div>"
     },
     "execution_count": 39,
     "metadata": {},
     "output_type": "execute_result"
    }
   ],
   "source": [
    "us_states_dim.select(\"*\").toPandas()"
   ],
   "metadata": {
    "collapsed": false,
    "pycharm": {
     "name": "#%%\n"
    }
   }
  },
  {
   "cell_type": "code",
   "execution_count": null,
   "outputs": [],
   "source": [],
   "metadata": {
    "collapsed": false,
    "pycharm": {
     "name": "#%%\n"
    }
   }
  },
  {
   "cell_type": "markdown",
   "source": [
    "### Load US airports dim table"
   ],
   "metadata": {
    "collapsed": false,
    "pycharm": {
     "name": "#%% md\n"
    }
   }
  },
  {
   "cell_type": "code",
   "execution_count": 40,
   "outputs": [],
   "source": [
    "# Load parquet data\n",
    "us_airports_dim = spark.read.parquet(\"tables_/us_airports_dim.parquet\")"
   ],
   "metadata": {
    "collapsed": false,
    "pycharm": {
     "name": "#%%\n"
    }
   }
  },
  {
   "cell_type": "code",
   "execution_count": 41,
   "outputs": [
    {
     "data": {
      "text/plain": "     ident           type                       name  elevation_ft continent  \\\n0     07FA  small_airport    Ocean Reef Club Airport           8.0        NA   \n1      0AK  small_airport      Pilot Station Airport         305.0        NA   \n2     0CO2  small_airport      Crested Butte Airpark        8980.0        NA   \n3     0TE7  small_airport          LBJ Ranch Airport        1515.0        NA   \n4     13MA  small_airport       Metropolitan Airport         418.0        NA   \n...    ...            ...                        ...           ...       ...   \n2026   Z71  seaplane_base    Cape Pole Seaplane Base           0.0        NA   \n2027   Z78  seaplane_base  Chignik Bay Seaplane Base           NaN        NA   \n2028   Z91  small_airport        Birch Creek Airport         450.0        NA   \n2029   Z93  small_airport    Copper Center 2 Airport        1150.0        NA   \n2030   ZNC  small_airport               Nyac Airport         460.0        NA   \n\n     iso_country   municipality gps_code iata_code local_code  \\\n0             US      Key Largo     07FA       OCA       07FA   \n1             US  Pilot Station     None       PQS        0AK   \n2             US  Crested Butte     0CO2       CSE       0CO2   \n3             US   Johnson City     0TE7       JCY       0TE7   \n4             US         Palmer     13MA       PMX       13MA   \n...          ...            ...      ...       ...        ...   \n2026          US      Cape Pole      Z71       CZP        Z71   \n2027          US        Chignik      Z78       KBW        Z78   \n2028          US    Birch Creek      Z91       KBC        Z91   \n2029          US  Copper Center      Z93       CZC        Z93   \n2030          US           Nyac      ZNC       ZNC        ZNC   \n\n                                 coordinates state_code  \n0          -80.274803161621, 25.325399398804         FL  \n1                     -162.899994, 61.934601         AK  \n2                     -106.928341, 38.851918         CO  \n3     -98.62249755859999, 30.251800537100003         TX  \n4     -72.31140136719999, 42.223300933800004         MA  \n...                                      ...        ...  \n2026            -133.79699707, 55.9663009644         AK  \n2027      -158.401000977, 56.295600891099994         AK  \n2028           -145.824005127, 66.2740020752         AK  \n2029           -145.294006348, 61.9412002563         AK  \n2030           -159.994003296, 60.9807014465         AK  \n\n[2031 rows x 12 columns]",
      "text/html": "<div>\n<style scoped>\n    .dataframe tbody tr th:only-of-type {\n        vertical-align: middle;\n    }\n\n    .dataframe tbody tr th {\n        vertical-align: top;\n    }\n\n    .dataframe thead th {\n        text-align: right;\n    }\n</style>\n<table border=\"1\" class=\"dataframe\">\n  <thead>\n    <tr style=\"text-align: right;\">\n      <th></th>\n      <th>ident</th>\n      <th>type</th>\n      <th>name</th>\n      <th>elevation_ft</th>\n      <th>continent</th>\n      <th>iso_country</th>\n      <th>municipality</th>\n      <th>gps_code</th>\n      <th>iata_code</th>\n      <th>local_code</th>\n      <th>coordinates</th>\n      <th>state_code</th>\n    </tr>\n  </thead>\n  <tbody>\n    <tr>\n      <th>0</th>\n      <td>07FA</td>\n      <td>small_airport</td>\n      <td>Ocean Reef Club Airport</td>\n      <td>8.0</td>\n      <td>NA</td>\n      <td>US</td>\n      <td>Key Largo</td>\n      <td>07FA</td>\n      <td>OCA</td>\n      <td>07FA</td>\n      <td>-80.274803161621, 25.325399398804</td>\n      <td>FL</td>\n    </tr>\n    <tr>\n      <th>1</th>\n      <td>0AK</td>\n      <td>small_airport</td>\n      <td>Pilot Station Airport</td>\n      <td>305.0</td>\n      <td>NA</td>\n      <td>US</td>\n      <td>Pilot Station</td>\n      <td>None</td>\n      <td>PQS</td>\n      <td>0AK</td>\n      <td>-162.899994, 61.934601</td>\n      <td>AK</td>\n    </tr>\n    <tr>\n      <th>2</th>\n      <td>0CO2</td>\n      <td>small_airport</td>\n      <td>Crested Butte Airpark</td>\n      <td>8980.0</td>\n      <td>NA</td>\n      <td>US</td>\n      <td>Crested Butte</td>\n      <td>0CO2</td>\n      <td>CSE</td>\n      <td>0CO2</td>\n      <td>-106.928341, 38.851918</td>\n      <td>CO</td>\n    </tr>\n    <tr>\n      <th>3</th>\n      <td>0TE7</td>\n      <td>small_airport</td>\n      <td>LBJ Ranch Airport</td>\n      <td>1515.0</td>\n      <td>NA</td>\n      <td>US</td>\n      <td>Johnson City</td>\n      <td>0TE7</td>\n      <td>JCY</td>\n      <td>0TE7</td>\n      <td>-98.62249755859999, 30.251800537100003</td>\n      <td>TX</td>\n    </tr>\n    <tr>\n      <th>4</th>\n      <td>13MA</td>\n      <td>small_airport</td>\n      <td>Metropolitan Airport</td>\n      <td>418.0</td>\n      <td>NA</td>\n      <td>US</td>\n      <td>Palmer</td>\n      <td>13MA</td>\n      <td>PMX</td>\n      <td>13MA</td>\n      <td>-72.31140136719999, 42.223300933800004</td>\n      <td>MA</td>\n    </tr>\n    <tr>\n      <th>...</th>\n      <td>...</td>\n      <td>...</td>\n      <td>...</td>\n      <td>...</td>\n      <td>...</td>\n      <td>...</td>\n      <td>...</td>\n      <td>...</td>\n      <td>...</td>\n      <td>...</td>\n      <td>...</td>\n      <td>...</td>\n    </tr>\n    <tr>\n      <th>2026</th>\n      <td>Z71</td>\n      <td>seaplane_base</td>\n      <td>Cape Pole Seaplane Base</td>\n      <td>0.0</td>\n      <td>NA</td>\n      <td>US</td>\n      <td>Cape Pole</td>\n      <td>Z71</td>\n      <td>CZP</td>\n      <td>Z71</td>\n      <td>-133.79699707, 55.9663009644</td>\n      <td>AK</td>\n    </tr>\n    <tr>\n      <th>2027</th>\n      <td>Z78</td>\n      <td>seaplane_base</td>\n      <td>Chignik Bay Seaplane Base</td>\n      <td>NaN</td>\n      <td>NA</td>\n      <td>US</td>\n      <td>Chignik</td>\n      <td>Z78</td>\n      <td>KBW</td>\n      <td>Z78</td>\n      <td>-158.401000977, 56.295600891099994</td>\n      <td>AK</td>\n    </tr>\n    <tr>\n      <th>2028</th>\n      <td>Z91</td>\n      <td>small_airport</td>\n      <td>Birch Creek Airport</td>\n      <td>450.0</td>\n      <td>NA</td>\n      <td>US</td>\n      <td>Birch Creek</td>\n      <td>Z91</td>\n      <td>KBC</td>\n      <td>Z91</td>\n      <td>-145.824005127, 66.2740020752</td>\n      <td>AK</td>\n    </tr>\n    <tr>\n      <th>2029</th>\n      <td>Z93</td>\n      <td>small_airport</td>\n      <td>Copper Center 2 Airport</td>\n      <td>1150.0</td>\n      <td>NA</td>\n      <td>US</td>\n      <td>Copper Center</td>\n      <td>Z93</td>\n      <td>CZC</td>\n      <td>Z93</td>\n      <td>-145.294006348, 61.9412002563</td>\n      <td>AK</td>\n    </tr>\n    <tr>\n      <th>2030</th>\n      <td>ZNC</td>\n      <td>small_airport</td>\n      <td>Nyac Airport</td>\n      <td>460.0</td>\n      <td>NA</td>\n      <td>US</td>\n      <td>Nyac</td>\n      <td>ZNC</td>\n      <td>ZNC</td>\n      <td>ZNC</td>\n      <td>-159.994003296, 60.9807014465</td>\n      <td>AK</td>\n    </tr>\n  </tbody>\n</table>\n<p>2031 rows × 12 columns</p>\n</div>"
     },
     "execution_count": 41,
     "metadata": {},
     "output_type": "execute_result"
    }
   ],
   "source": [
    "us_airports_dim.select(\"*\").toPandas()"
   ],
   "metadata": {
    "collapsed": false,
    "pycharm": {
     "name": "#%%\n"
    }
   }
  },
  {
   "cell_type": "code",
   "execution_count": null,
   "outputs": [],
   "source": [],
   "metadata": {
    "collapsed": false,
    "pycharm": {
     "name": "#%%\n"
    }
   }
  }
 ],
 "metadata": {
  "kernelspec": {
   "display_name": "Python 3",
   "language": "python",
   "name": "python3"
  },
  "language_info": {
   "codemirror_mode": {
    "name": "ipython",
    "version": 2
   },
   "file_extension": ".py",
   "mimetype": "text/x-python",
   "name": "python",
   "nbconvert_exporter": "python",
   "pygments_lexer": "ipython2",
   "version": "2.7.6"
  }
 },
 "nbformat": 4,
 "nbformat_minor": 0
}